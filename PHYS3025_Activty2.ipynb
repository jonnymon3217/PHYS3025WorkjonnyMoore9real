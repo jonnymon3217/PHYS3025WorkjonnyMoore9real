{
  "nbformat": 4,
  "nbformat_minor": 0,
  "metadata": {
    "colab": {
      "provenance": [],
      "include_colab_link": true
    },
    "kernelspec": {
      "name": "python3",
      "display_name": "Python 3"
    },
    "language_info": {
      "name": "python"
    }
  },
  "cells": [
    {
      "cell_type": "markdown",
      "metadata": {
        "id": "view-in-github",
        "colab_type": "text"
      },
      "source": [
        "<a href=\"https://colab.research.google.com/github/jonnymon3217/PHYS3025WorkjonnyMoore9real/blob/main/PHYS3025_Activty2.ipynb\" target=\"_parent\"><img src=\"https://colab.research.google.com/assets/colab-badge.svg\" alt=\"Open In Colab\"/></a>"
      ]
    },
    {
      "cell_type": "markdown",
      "source": [
        " **Introduction**\n",
        "\n",
        " This week you'll be reviewing Python in order to enable you to use it to do some of your homework problems and also investigate random walks. The exercises are from Labs used in the Astro 330, Scientific Computing in Astrophysics course at Yale: https://astro-330.github.io/intro.html as well as\n"
      ],
      "metadata": {
        "id": "EAHLuTVKR2pB"
      }
    },
    {
      "cell_type": "markdown",
      "source": [
        "**Part 1**\n",
        "\n",
        "Here's what we want to do. I'll walk you through this.\n",
        "\n",
        "Create a 2D array of dimensions 1000 x 1000, in which the values in each pixel are random-gaussian distributed about a mean of 10, with a sigma of 2, and then use matplotlib to display this image. Make sure (0,0) is in the lower lefthand corner."
      ],
      "metadata": {
        "id": "y-yz-n7MSFuh"
      }
    },
    {
      "cell_type": "markdown",
      "source": [
        "The first thing we need to do is load some libraries. The way we do this in Python is we use the command\n",
        "\n",
        "\n",
        "```\n",
        "# import\n",
        "```\n",
        "\n",
        "Now it's not always immediately obvious what libraries we should import so you can search to figure out what libraries are available and what functions they have. In this case we need libraries that can do a few things.\n",
        "\n",
        "1) Gaussian distributions\n",
        "\n",
        "2) Plot\n",
        "\n",
        "The instructions tell us what library to use for plotting (there are some others that can be used but this is an old standard for Python): matplotlib.\n",
        "So we can use the command\n",
        "\n",
        "```\n",
        "# import matplotlib.pyplot as plt\n",
        "```\n",
        "to call it.\n",
        "\n",
        "But that's not quite enough. We also need to lod libraies with Gaussian distributions. One tht would work is numpy\n",
        "```\n",
        "#import numpy as numpy\n",
        "\n",
        "\n",
        "\n"
      ],
      "metadata": {
        "id": "qYN3SbHCSVnj"
      }
    },
    {
      "cell_type": "code",
      "source": [
        "import matplotlib.pyplot as plt\n",
        "import numpy as numpy"
      ],
      "metadata": {
        "id": "yidIiN7TSEqr"
      },
      "execution_count": 3,
      "outputs": []
    },
    {
      "cell_type": "markdown",
      "source": [
        "Okay so we have our libraries. Now lets make that array\n",
        "If we look up making random distributions in numpy we find this page:\n",
        "https://numpy.org/doc/stable/reference/random/generated/numpy.random.normal.html\n",
        "\n",
        "and it offers this example mu,\n",
        "\n",
        "\n",
        "\n",
        "```\n",
        "random.normal(loc=0.0, scale=1.0, size=None)\n",
        "\n",
        "with\n",
        ":\n",
        "\n",
        "    loc\n",
        "    float or array_like of floats\n",
        "\n",
        "        Mean (“centre”) of the distribution.\n",
        "    scale\n",
        "    float or array_like of floats\n",
        "\n",
        "        Standard deviation (spread or “width”) of the distribution. Must be non-negative.\n",
        "    size\n",
        "    int or tuple of ints, optional\n",
        "```\n",
        "so for us our code would have loc = 10, scale =2 and size=(1000,1000)\n",
        "\n",
        "Then we want to image this so we'll have to matplotlib\n",
        "the code for this looks like\n",
        "\n",
        "\n",
        "```\n",
        "fig,ax = plt.subsplots(figsize=(10,10))\n",
        "ax.imshow(array,origin='lower')\n",
        "```\n",
        "where some of this is just formatting hints.\n",
        "\n",
        "Now make the code yourself.\n",
        "\n"
      ],
      "metadata": {
        "id": "QojETsJZ1be-"
      }
    },
    {
      "cell_type": "code",
      "source": [
        "R= numpy.random.normal(loc=10,scale=2,size=(1000,1000))\n",
        "print(R)\n",
        "\n",
        "fig,ax = plt.subplots(figsize=(10,10))"
      ],
      "metadata": {
        "id": "hBmj49hV3Tmf",
        "colab": {
          "base_uri": "https://localhost:8080/",
          "height": 969
        },
        "outputId": "471159b5-af23-4af9-b777-974535d57575"
      },
      "execution_count": 7,
      "outputs": [
        {
          "output_type": "stream",
          "name": "stdout",
          "text": [
            "[[10.50867963 13.94521736 11.78639994 ... 11.76470291  7.27064121\n",
            "  11.16372946]\n",
            " [ 7.518597   10.5591591   7.67379924 ... 11.26396314 12.82226844\n",
            "  12.14066277]\n",
            " [ 9.31443384  9.01066032 11.50751389 ...  5.17602634 13.8204495\n",
            "   9.53352407]\n",
            " ...\n",
            " [ 7.06766346 11.64232581 11.51876479 ... 12.27090675 12.47502794\n",
            "  11.42816829]\n",
            " [ 8.62845909 11.21275659 10.43216796 ... 10.87731453  6.16625363\n",
            "   7.74675411]\n",
            " [ 9.9978615  13.41653828  8.21336877 ...  9.60557382  9.63972103\n",
            "  11.90177731]]\n"
          ]
        },
        {
          "output_type": "display_data",
          "data": {
            "text/plain": [
              "<Figure size 1000x1000 with 1 Axes>"
            ],
            "image/png": "[encoded data removed]"
          },
          "metadata": {}
        }
      ]
    },
    {
      "cell_type": "markdown",
      "source": [
        "We'll be talking about random walks on Tuesday. Let's make one with python!\n",
        "This is based on some simple code from geeksforgeeks.org.\n",
        "\n",
        "Let's start with a 1-D walk\n",
        "\n",
        "we need to import random, numpy and matplotlib.pyplot . Give that a try below.\n",
        "\n"
      ],
      "metadata": {
        "id": "d1GU7CqgTKCX"
      }
    },
    {
      "cell_type": "code",
      "source": [
        "import random\n",
        "import matplotlib.pyplot as plt\n",
        "import numpy as numpy"
      ],
      "metadata": {
        "id": "73WFIui33-hY"
      },
      "execution_count": null,
      "outputs": []
    },
    {
      "cell_type": "markdown",
      "source": [
        "Next we'll set a probability for moving up or down in th walk as\n",
        "\n",
        "```\n",
        "# # Probability to move up or down\n",
        "prob = [low, high]\n",
        "```\n",
        "you can pick your down\n",
        "then we need to pick a starting position\n",
        "\n",
        "```\n",
        "# statically defining the starting position\n",
        "start = 2\n",
        "positions = [start]\n",
        " ```\n",
        " Next we need to make random points\n",
        " ```\n",
        "# creating the random points\n",
        "rr = np.random.random(1000)\n",
        "```\n",
        "Whereall we did is make some random numbers. You can print to see what it looks like.\n",
        "next we need to define if the walk is up or down that's going to be basd on whether a point is less than the probability or greater tha the probability\n",
        "```\n",
        "downp = rr < prob[0]\n",
        "upp = rr > prob[1]\n",
        " ```\n",
        " okay final thing is to make a loop and update our poitions\n",
        " We'll have to loop over all our points. One way to do this is a for loop which goes through all of the points.  There are other ways too. Think about this and give one a try. The pseudocode is like\n",
        " ```\n",
        "for thepoints in the groupofpoints:\n",
        "    #move based on whether a point is a up or down step\n",
        "    #append to your code\n",
        "\n",
        "```\n",
        "Then we just plot  using similar code as before.\n",
        "```\n",
        "# plotting down the graph of the random walk in 1D\n",
        "plt.plot(positions)\n",
        "plt.show()\n",
        "```\n",
        "\n"
      ],
      "metadata": {
        "id": "pPI1OH5f3_xt"
      }
    },
    {
      "cell_type": "code",
      "source": [
        "# code here\n",
        "prob = [0.2 ,0.9]\n",
        "st= 1\n",
        "poss = [st]\n",
        "print(poss)\n",
        "rannum = numpy.random.random(100000)\n",
        "step = 35\n",
        "for i in range(step):\n",
        "  if rannum[i] < prob[0]:\n",
        "    poss.append(poss[i-1]+1)\n",
        "  else:\n",
        "    poss.append(poss[i-1]-1)\n",
        "  print(poss)\n",
        "plt.plot(poss)\n",
        "plt.show()\n",
        "\n",
        "\n"
      ],
      "metadata": {
        "id": "9WLVljzM5f3V",
        "colab": {
          "base_uri": "https://localhost:8080/",
          "height": 1000
        },
        "outputId": "e41d011a-c9da-40cf-ff7a-3b0becec5934"
      },
      "execution_count": 13,
      "outputs": [
        {
          "output_type": "stream",
          "name": "stdout",
          "text": [
            "[1]\n",
            "[1, 0]\n",
            "[1, 0, 2]\n",
            "[1, 0, 2, -1]\n",
            "[1, 0, 2, -1, 1]\n",
            "[1, 0, 2, -1, 1, -2]\n",
            "[1, 0, 2, -1, 1, -2, 2]\n",
            "[1, 0, 2, -1, 1, -2, 2, -3]\n",
            "[1, 0, 2, -1, 1, -2, 2, -3, 1]\n",
            "[1, 0, 2, -1, 1, -2, 2, -3, 1, -4]\n",
            "[1, 0, 2, -1, 1, -2, 2, -3, 1, -4, 0]\n",
            "[1, 0, 2, -1, 1, -2, 2, -3, 1, -4, 0, -5]\n",
            "[1, 0, 2, -1, 1, -2, 2, -3, 1, -4, 0, -5, -1]\n",
            "[1, 0, 2, -1, 1, -2, 2, -3, 1, -4, 0, -5, -1, -6]\n",
            "[1, 0, 2, -1, 1, -2, 2, -3, 1, -4, 0, -5, -1, -6, -2]\n",
            "[1, 0, 2, -1, 1, -2, 2, -3, 1, -4, 0, -5, -1, -6, -2, -7]\n",
            "[1, 0, 2, -1, 1, -2, 2, -3, 1, -4, 0, -5, -1, -6, -2, -7, -3]\n",
            "[1, 0, 2, -1, 1, -2, 2, -3, 1, -4, 0, -5, -1, -6, -2, -7, -3, -8]\n",
            "[1, 0, 2, -1, 1, -2, 2, -3, 1, -4, 0, -5, -1, -6, -2, -7, -3, -8, -2]\n",
            "[1, 0, 2, -1, 1, -2, 2, -3, 1, -4, 0, -5, -1, -6, -2, -7, -3, -8, -2, -7]\n",
            "[1, 0, 2, -1, 1, -2, 2, -3, 1, -4, 0, -5, -1, -6, -2, -7, -3, -8, -2, -7, -1]\n",
            "[1, 0, 2, -1, 1, -2, 2, -3, 1, -4, 0, -5, -1, -6, -2, -7, -3, -8, -2, -7, -1, -8]\n",
            "[1, 0, 2, -1, 1, -2, 2, -3, 1, -4, 0, -5, -1, -6, -2, -7, -3, -8, -2, -7, -1, -8, -2]\n",
            "[1, 0, 2, -1, 1, -2, 2, -3, 1, -4, 0, -5, -1, -6, -2, -7, -3, -8, -2, -7, -1, -8, -2, -9]\n",
            "[1, 0, 2, -1, 1, -2, 2, -3, 1, -4, 0, -5, -1, -6, -2, -7, -3, -8, -2, -7, -1, -8, -2, -9, -3]\n",
            "[1, 0, 2, -1, 1, -2, 2, -3, 1, -4, 0, -5, -1, -6, -2, -7, -3, -8, -2, -7, -1, -8, -2, -9, -3, -10]\n",
            "[1, 0, 2, -1, 1, -2, 2, -3, 1, -4, 0, -5, -1, -6, -2, -7, -3, -8, -2, -7, -1, -8, -2, -9, -3, -10, -4]\n",
            "[1, 0, 2, -1, 1, -2, 2, -3, 1, -4, 0, -5, -1, -6, -2, -7, -3, -8, -2, -7, -1, -8, -2, -9, -3, -10, -4, -11]\n",
            "[1, 0, 2, -1, 1, -2, 2, -3, 1, -4, 0, -5, -1, -6, -2, -7, -3, -8, -2, -7, -1, -8, -2, -9, -3, -10, -4, -11, -5]\n",
            "[1, 0, 2, -1, 1, -2, 2, -3, 1, -4, 0, -5, -1, -6, -2, -7, -3, -8, -2, -7, -1, -8, -2, -9, -3, -10, -4, -11, -5, -12]\n",
            "[1, 0, 2, -1, 1, -2, 2, -3, 1, -4, 0, -5, -1, -6, -2, -7, -3, -8, -2, -7, -1, -8, -2, -9, -3, -10, -4, -11, -5, -12, -4]\n",
            "[1, 0, 2, -1, 1, -2, 2, -3, 1, -4, 0, -5, -1, -6, -2, -7, -3, -8, -2, -7, -1, -8, -2, -9, -3, -10, -4, -11, -5, -12, -4, -11]\n",
            "[1, 0, 2, -1, 1, -2, 2, -3, 1, -4, 0, -5, -1, -6, -2, -7, -3, -8, -2, -7, -1, -8, -2, -9, -3, -10, -4, -11, -5, -12, -4, -11, -5]\n",
            "[1, 0, 2, -1, 1, -2, 2, -3, 1, -4, 0, -5, -1, -6, -2, -7, -3, -8, -2, -7, -1, -8, -2, -9, -3, -10, -4, -11, -5, -12, -4, -11, -5, -10]\n",
            "[1, 0, 2, -1, 1, -2, 2, -3, 1, -4, 0, -5, -1, -6, -2, -7, -3, -8, -2, -7, -1, -8, -2, -9, -3, -10, -4, -11, -5, -12, -4, -11, -5, -10, -6]\n",
            "[1, 0, 2, -1, 1, -2, 2, -3, 1, -4, 0, -5, -1, -6, -2, -7, -3, -8, -2, -7, -1, -8, -2, -9, -3, -10, -4, -11, -5, -12, -4, -11, -5, -10, -6, -11]\n"
          ]
        },
        {
          "output_type": "display_data",
          "data": {
            "text/plain": [
              "<Figure size 640x480 with 1 Axes>"
            ],
            "image/png": "[encoded data removed]"
          },
          "metadata": {}
        }
      ]
    },
    {
      "cell_type": "markdown",
      "source": [
        "We can do something similar for multipl dimensions and it looks cooler. Let's try it.\n",
        "\n",
        "This time let's make way more steps. Like 1000000\n",
        "\n",
        "We'll need t have an array for x and y one way to do this is\n",
        "```\n",
        "x=np.zeros(n)\n",
        "y=np.zeros(n)\n",
        "```\n",
        "Where n is our steps.\n",
        "Then we will fill up our array with numbers based on the walk\n",
        "so maybe another for loop\n",
        "```\n",
        "for i in range(1,n): #this will go through all our steps\n",
        "  val =random.randint(1,4) # we have four possible steps\n",
        "  if val == 1:\n",
        "    #new location is previous location+1 in x\n",
        "    #new location in y is previous locaion\n",
        "    elseif val == 2:\n",
        "      #step back in x and stay in y\n",
        "    elseif val == 3:\n",
        "      #stay  in x and step up in y\n",
        "    else: #4 is the only option left\n",
        "      #stay in x and step down in y\n",
        "    ```\n",
        "  Then we just plot\n",
        "\n",
        "  #Think abou how you could do this in 3 dimensions and give it a try if you want but all you need to submit is a 2d\n"
      ],
      "metadata": {
        "id": "anuxv0K25jq3"
      }
    },
    {
      "cell_type": "code",
      "source": [
        "n = 10000 #number of steps for our random walk\n",
        "x = numpy.zeros(n)\n",
        "y = numpy.zeros(n)\n",
        "\n",
        "for i in range(1,n):\n",
        "  v = random.randint(1,4)\n",
        "  if v==1:\n",
        "    x[i]=x[i-1] + 1\n",
        "    y[i]=y[i-1]\n",
        "  elif v==2:\n",
        "    x[i]=x[i-1] - 1\n",
        "    y[i]=y[i-1]\n",
        "  elif v==3:\n",
        "    x[i]=x[i-1]\n",
        "    y[i]=y[i-1] + 1\n",
        "  else:\n",
        "    x[i]=x[i-1]\n",
        "    y[i]=y[i-1] - 1\n",
        "plt.plot(x,y)\n",
        "\n"
      ],
      "metadata": {
        "id": "FzdIx3C96zZW",
        "colab": {
          "base_uri": "https://localhost:8080/",
          "height": 254
        },
        "outputId": "34300e9b-a1b7-4a73-e16f-c3e8d8b3f820"
      },
      "execution_count": 22,
      "outputs": [
        {
          "output_type": "error",
          "ename": "NameError",
          "evalue": "ignored",
          "traceback": [
            "\u001b[0;31m---------------------------------------------------------------------------\u001b[0m",
            "\u001b[0;31mNameError\u001b[0m                                 Traceback (most recent call last)",
            "\u001b[0;32m<ipython-input-22-ce7a73e196c3>\u001b[0m in \u001b[0;36m<cell line: 5>\u001b[0;34m()\u001b[0m\n\u001b[1;32m      4\u001b[0m \u001b[0;34m\u001b[0m\u001b[0m\n\u001b[1;32m      5\u001b[0m \u001b[0;32mfor\u001b[0m \u001b[0mi\u001b[0m \u001b[0;32min\u001b[0m \u001b[0mrange\u001b[0m\u001b[0;34m(\u001b[0m\u001b[0;36m1\u001b[0m\u001b[0;34m,\u001b[0m\u001b[0mn\u001b[0m\u001b[0;34m)\u001b[0m\u001b[0;34m:\u001b[0m\u001b[0;34m\u001b[0m\u001b[0;34m\u001b[0m\u001b[0m\n\u001b[0;32m----> 6\u001b[0;31m   \u001b[0mv\u001b[0m \u001b[0;34m=\u001b[0m \u001b[0mrandom\u001b[0m\u001b[0;34m.\u001b[0m\u001b[0mrandint\u001b[0m\u001b[0;34m(\u001b[0m\u001b[0;36m1\u001b[0m\u001b[0;34m,\u001b[0m\u001b[0;36m4\u001b[0m\u001b[0;34m)\u001b[0m\u001b[0;34m\u001b[0m\u001b[0;34m\u001b[0m\u001b[0m\n\u001b[0m\u001b[1;32m      7\u001b[0m   \u001b[0;32mif\u001b[0m \u001b[0mv\u001b[0m\u001b[0;34m==\u001b[0m\u001b[0;36m1\u001b[0m\u001b[0;34m:\u001b[0m\u001b[0;34m\u001b[0m\u001b[0;34m\u001b[0m\u001b[0m\n\u001b[1;32m      8\u001b[0m     \u001b[0mx\u001b[0m\u001b[0;34m[\u001b[0m\u001b[0mi\u001b[0m\u001b[0;34m]\u001b[0m\u001b[0;34m=\u001b[0m\u001b[0mx\u001b[0m\u001b[0;34m[\u001b[0m\u001b[0mi\u001b[0m\u001b[0;34m-\u001b[0m\u001b[0;36m1\u001b[0m\u001b[0;34m]\u001b[0m \u001b[0;34m+\u001b[0m \u001b[0;36m1\u001b[0m\u001b[0;34m\u001b[0m\u001b[0;34m\u001b[0m\u001b[0m\n",
            "\u001b[0;31mNameError\u001b[0m: name 'random' is not defined"
          ]
        }
      ]
    }
  ]
}