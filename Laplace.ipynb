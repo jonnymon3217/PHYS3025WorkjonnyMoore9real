{
  "nbformat": 4,
  "nbformat_minor": 0,
  "metadata": {
    "colab": {
      "provenance": [],
      "authorship_tag": "ABX9TyMZ3kzF8BGPH1b4xA3ggJZ0",
      "include_colab_link": true
    },
    "kernelspec": {
      "name": "python3",
      "display_name": "Python 3"
    },
    "language_info": {
      "name": "python"
    }
  },
  "cells": [
    {
      "cell_type": "markdown",
      "metadata": {
        "id": "view-in-github",
        "colab_type": "text"
      },
      "source": [
        "<a href=\"https://colab.research.google.com/github/jonnymon3217/PHYS3025WorkjonnyMoore9real/blob/main/Laplace.ipynb\" target=\"_parent\"><img src=\"https://colab.research.google.com/assets/colab-badge.svg\" alt=\"Open In Colab\"/></a>"
      ]
    },
    {
      "cell_type": "markdown",
      "source": [
        "I can't stress enough how much logan helped me with this.\n",
        "\n",
        "The lapalce equation is essentally a scalar function mapped onto a scalar funcion"
      ],
      "metadata": {
        "id": "7sUGOYIJCqB8"
      }
    },
    {
      "cell_type": "code",
      "source": [
        "%matplotlib inline\n",
        "import numpy as np\n",
        "import matplotlib.pyplot as plt\n",
        "from mpl_toolkits import mplot3d\n",
        "import numba\n",
        "from numba import jit"
      ],
      "metadata": {
        "id": "5AwJwxbIBu9L"
      },
      "execution_count": null,
      "outputs": []
    },
    {
      "cell_type": "markdown",
      "source": [
        "I have done some reasech into trying to understand the lapace queation and it is confusing me how to translate this to code.\n",
        "\n",
        "I have also spent 2 hours on this so im not sure what to do.\n",
        "\n",
        "I'm going to make a box"
      ],
      "metadata": {
        "id": "W63es4WlIdy5"
      }
    },
    {
      "cell_type": "code",
      "source": [
        "#height = h\n",
        "#lenght = l\n",
        "\n",
        "h = 15\n",
        "l = 75\n",
        "\n",
        "#edge conditions = edg\n",
        "\n",
        "edg = np.linspace(0,h,h)\n",
        "\n",
        "#north = n\n",
        "#south = s\n",
        "#east = e\n",
        "#west = w\n",
        "\n",
        "n = np.zeros(l)*0\n",
        "s =np.zeros(l)*0\n",
        "e =1*np.zeros(l)*0\n",
        "w =0*np.zeros(l)*0"
      ],
      "metadata": {
        "id": "MwulyfThKDH9"
      },
      "execution_count": 12,
      "outputs": []
    }
  ]
}